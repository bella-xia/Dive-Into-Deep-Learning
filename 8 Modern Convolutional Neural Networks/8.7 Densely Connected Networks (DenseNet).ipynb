{
 "cells": [
  {
   "cell_type": "code",
   "execution_count": 1,
   "id": "e6079f47",
   "metadata": {},
   "outputs": [],
   "source": [
    "import torch\n",
    "from torch import nn\n",
    "from d2l import torch as d2l"
   ]
  },
  {
   "cell_type": "code",
   "execution_count": 2,
   "id": "8c35c305",
   "metadata": {},
   "outputs": [],
   "source": [
    "def conv_block(num_channels):\n",
    "    return nn.Sequential(nn.LazyBatchNorm2d(), nn.ReLU(),\n",
    "                        nn.LazyConv2d(num_channels, kernel_size=3, padding=1))"
   ]
  },
  {
   "cell_type": "code",
   "execution_count": 3,
   "id": "71289607",
   "metadata": {},
   "outputs": [],
   "source": [
    "class DenseBlock(nn.Module):\n",
    "    def __init__(self, num_convs, num_channels):\n",
    "        super(DenseBlock, self).__init__()\n",
    "        layer = []\n",
    "        for i in range(num_convs):\n",
    "            layer.append(conv_block(num_channels))\n",
    "        self.net = nn.Sequential(*layer)\n",
    "    def forward(self, X):\n",
    "        for blk in self.net:\n",
    "            Y = blk(X)\n",
    "            X = torch.cat((X, Y), dim=1)\n",
    "        return X"
   ]
  },
  {
   "cell_type": "code",
   "execution_count": 7,
   "id": "ec1a9ceb",
   "metadata": {},
   "outputs": [
    {
     "data": {
      "text/plain": [
       "torch.Size([4, 23, 8, 8])"
      ]
     },
     "execution_count": 7,
     "metadata": {},
     "output_type": "execute_result"
    }
   ],
   "source": [
    "blk = DenseBlock(2, 10)\n",
    "X = torch.randn(4, 3, 8, 8)\n",
    "Y = blk(X)\n",
    "Y.shape"
   ]
  },
  {
   "cell_type": "code",
   "execution_count": 5,
   "id": "f2e211cc",
   "metadata": {},
   "outputs": [],
   "source": [
    "def transition_block(num_channels):\n",
    "    return nn.Sequential(nn.LazyBatchNorm2d(), nn.ReLU(),\n",
    "                        nn.LazyConv2d(num_channels, kernel_size=1),\n",
    "                        nn.AvgPool2d(kernel_size=2, stride=2))"
   ]
  },
  {
   "cell_type": "code",
   "execution_count": 8,
   "id": "96ffd746",
   "metadata": {},
   "outputs": [
    {
     "data": {
      "text/plain": [
       "torch.Size([4, 10, 4, 4])"
      ]
     },
     "execution_count": 8,
     "metadata": {},
     "output_type": "execute_result"
    }
   ],
   "source": [
    "blk = transition_block(10)\n",
    "blk(Y).shape"
   ]
  },
  {
   "cell_type": "code",
   "execution_count": 9,
   "id": "3e0b7fec",
   "metadata": {},
   "outputs": [],
   "source": [
    "class DenseNet(d2l.Classifier):\n",
    "    def b1(self):\n",
    "        return nn.Sequential(nn.LazyConv2d(64, kernel_size=7, stride=2, padding=3),\n",
    "                            nn.LazyBatchNorm2d(), nn.ReLU(),\n",
    "                            nn.MaxPool2d(kernel_size=3, stride=2, padding=1))"
   ]
  },
  {
   "cell_type": "code",
   "execution_count": 10,
   "id": "ea27a030",
   "metadata": {},
   "outputs": [],
   "source": [
    "@d2l.add_to_class(DenseNet)\n",
    "def __init__(self, num_channels=64, growth_rate=32, arch=(4, 4, 4, 4),\n",
    "            lr=0.1, num_classes=10):\n",
    "    super(DenseNet, self).__init__()\n",
    "    self.save_hyperparameters()\n",
    "    self.net = nn.Sequential(self.b1())\n",
    "    for i, num_convs in enumerate(arch):\n",
    "        self.net.add_module(f'dense_blk{i+1}', DenseBlock(num_convs, growth_rate))\n",
    "        num_channels += num_convs + growth_rate\n",
    "        if i != len(arch) - 1:\n",
    "            num_channels //= 2\n",
    "            self.net.add_module(f'trans_blk{i+1}', transition_block(num_channels))\n",
    "    self.net.add_module('last', nn.Sequential(nn.LazyBatchNorm2d(),\n",
    "                                             nn.ReLU(),\n",
    "                                             nn.AdaptiveAvgPool2d((1, 1)),\n",
    "                                             nn.Flatten(),\n",
    "                                             nn.LazyLinear(num_classes)))\n",
    "    self.net.apply(d2l.init_cnn)\n",
    "    \n",
    "    \n",
    "    "
   ]
  },
  {
   "cell_type": "code",
   "execution_count": 11,
   "id": "eec97152",
   "metadata": {},
   "outputs": [],
   "source": [
    "model = DenseNet(lr=0.01)"
   ]
  },
  {
   "cell_type": "code",
   "execution_count": null,
   "id": "70467cd6",
   "metadata": {},
   "outputs": [],
   "source": []
  }
 ],
 "metadata": {
  "kernelspec": {
   "display_name": "Python 3 (ipykernel)",
   "language": "python",
   "name": "python3"
  },
  "language_info": {
   "codemirror_mode": {
    "name": "ipython",
    "version": 3
   },
   "file_extension": ".py",
   "mimetype": "text/x-python",
   "name": "python",
   "nbconvert_exporter": "python",
   "pygments_lexer": "ipython3",
   "version": "3.9.12"
  }
 },
 "nbformat": 4,
 "nbformat_minor": 5
}
