{
 "cells": [
  {
   "cell_type": "code",
   "execution_count": 5,
   "id": "af214a70",
   "metadata": {},
   "outputs": [],
   "source": [
    "%matplotlib inline\n",
    "import numpy as np\n",
    "import torch\n",
    "from d2l import torch as d2l"
   ]
  },
  {
   "cell_type": "code",
   "execution_count": 6,
   "id": "69e55635",
   "metadata": {},
   "outputs": [],
   "source": [
    "def f(x):\n",
    "    return x * torch.cos(np.pi * x)\n",
    "\n",
    "def g(x):\n",
    "    return f(x) + 0.2 * torch.cos(5 * np.pi * x)"
   ]
  },
  {
   "cell_type": "code",
   "execution_count": null,
   "id": "629b02dc",
   "metadata": {},
   "outputs": [],
   "source": []
  }
 ],
 "metadata": {
  "kernelspec": {
   "display_name": "Python 3 (ipykernel)",
   "language": "python",
   "name": "python3"
  },
  "language_info": {
   "codemirror_mode": {
    "name": "ipython",
    "version": 3
   },
   "file_extension": ".py",
   "mimetype": "text/x-python",
   "name": "python",
   "nbconvert_exporter": "python",
   "pygments_lexer": "ipython3",
   "version": "3.9.12"
  }
 },
 "nbformat": 4,
 "nbformat_minor": 5
}
